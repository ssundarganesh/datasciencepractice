{
 "cells": [
  {
   "cell_type": "code",
   "execution_count": 5,
   "id": "cd8eed75",
   "metadata": {},
   "outputs": [
    {
     "name": "stdout",
     "output_type": "stream",
     "text": [
      "29.5 0.00259741456482452\n"
     ]
    }
   ],
   "source": [
    "import pandas as pd\n",
    "dataset = pd.read_excel('1 Wilcoxon.xlsx')\n",
    "dataset.head()\n",
    "d1 = dataset.TOTALCIN\n",
    "d2 = dataset.TOTALCW2\n",
    "from scipy.stats import wilcoxon\n",
    "stat,p =wilcoxon(d1,d2)\n",
    "print (stat,p)"
   ]
  },
  {
   "cell_type": "code",
   "execution_count": 6,
   "id": "19c79054",
   "metadata": {},
   "outputs": [
    {
     "name": "stdout",
     "output_type": "stream",
     "text": [
      "27.927710843373504 8.62133745016363e-07\n"
     ]
    }
   ],
   "source": [
    "from scipy.stats import friedmanchisquare\n",
    "d3 = dataset.TOTALCW4\n",
    "stat,p = friedmanchisquare(d1,d2,d3)\n",
    "print (stat,p)"
   ]
  },
  {
   "cell_type": "code",
   "execution_count": 8,
   "id": "f1f8e73d",
   "metadata": {},
   "outputs": [
    {
     "name": "stdout",
     "output_type": "stream",
     "text": [
      "37.5 0.3239828583886366\n"
     ]
    }
   ],
   "source": [
    "from scipy.stats import mannwhitneyu\n",
    "dataset2=pd.read_excel(\"3 Mann Whitney1.xlsx\")\n",
    "dataset2.head()\n",
    "a1 = dataset2.Design1\n",
    "a2 = dataset2.Design2\n",
    "stat, p = mannwhitneyu(a1,a2)\n",
    "print (stat,p)"
   ]
  },
  {
   "cell_type": "code",
   "execution_count": 11,
   "id": "7f7e0bc5",
   "metadata": {},
   "outputs": [
    {
     "name": "stdout",
     "output_type": "stream",
     "text": [
      "0.6901960784314011 0.708150923503288\n"
     ]
    }
   ],
   "source": [
    "from scipy.stats import kruskal\n",
    "dataset3 = pd.read_excel(\"4 Kruskal Wallis.xlsx\")\n",
    "dataset3.head()\n",
    "b1=dataset3.Design1\n",
    "b2=dataset3.Design2\n",
    "b3=dataset3.Design3\n",
    "stat,p=kruskal(b1,b2,b3)\n",
    "print (stat,p)"
   ]
  },
  {
   "cell_type": "code",
   "execution_count": 19,
   "id": "094c811d",
   "metadata": {},
   "outputs": [
    {
     "name": "stdout",
     "output_type": "stream",
     "text": [
      "Smoking    0   1\n",
      "Gender          \n",
      "0        195  18\n",
      "1        153  69\n",
      "Smoking         0         1\n",
      "Gender                     \n",
      "0        0.915493  0.084507\n",
      "1        0.689189  0.310811\n",
      "Smoking         0         1\n",
      "Gender                     \n",
      "0        0.560345  0.206897\n",
      "1        0.439655  0.793103\n",
      "Smoking         0         1\n",
      "Gender                     \n",
      "0        0.448276  0.041379\n",
      "1        0.351724  0.158621\n"
     ]
    }
   ],
   "source": [
    "from scipy.stats import chi2_contingency\n",
    "dataset4 = pd.read_excel('5Chi_square_Test.xlsx')\n",
    "dataset4.head()\n",
    "contingencytable = pd.crosstab(dataset4['Gender'],dataset4['Smoking'])\n",
    "print (contingencytable)\n",
    "#percentages by gender / row\n",
    "contingency_pct_row = pd.crosstab(dataset4['Gender'],dataset4['Smoking'],normalize ='index')\n",
    "#percentages by somkin / column\n",
    "contingency_pct_column = pd.crosstab(dataset4['Gender'],dataset4['Smoking'],normalize ='columns')\n",
    "#percentages by all\n",
    "contingency_pct_all = pd.crosstab(dataset4['Gender'],dataset4['Smoking'],normalize ='all')\n",
    "print (contingency_pct_row)\n",
    "print (contingency_pct_column)\n",
    "print (contingency_pct_all)"
   ]
  },
  {
   "cell_type": "code",
   "execution_count": 25,
   "id": "279bf939",
   "metadata": {
    "scrolled": true
   },
   "outputs": [
    {
     "name": "stdout",
     "output_type": "stream",
     "text": [
      "33.39417983123969 7.524882185575127e-09 1 [[170.4  42.6]\n",
      " [177.6  44.4]]\n",
      "Smoking    0   1\n",
      "Gender          \n",
      "0        195  18\n",
      "1        153  69\n"
     ]
    }
   ],
   "source": [
    "#Chi-square test of independence\n",
    "c,p,dof,expected = chi2_contingency(contingencytable)\n",
    "print (c,p,dof,expected)\n",
    "print (contingencytable)"
   ]
  },
  {
   "cell_type": "code",
   "execution_count": 2,
   "id": "6b89b597",
   "metadata": {},
   "outputs": [
    {
     "name": "stdout",
     "output_type": "stream",
     "text": [
      "9.777777777777777 0.8779726643598091\n",
      "    fruits  count\n",
      "0   orange      1\n",
      "1   orange      1\n",
      "2    mango      2\n",
      "3   banana      3\n",
      "4    lemon      4\n",
      "5   banana      3\n",
      "6   orange      1\n",
      "7    lemon      4\n",
      "8    lemon      4\n",
      "9   orange      1\n",
      "10   mango      2\n",
      "11  banana      3\n",
      "12   lemon      4\n",
      "13  banana      3\n",
      "14  orange      1\n",
      "15   lemon      4\n",
      "16   lemon      4\n"
     ]
    }
   ],
   "source": [
    "#Test of proportions of each category usign Chi-square test\n",
    "#2. Test of proportions of each category using Chi-square Test\n",
    "\n",
    "#Example:The chi-square test could be used to determine if a basket of fruit contains equal proportions of mango, banana, lemon, and oranges.\n",
    "\n",
    "#H0: There is no significant difference in the proportions of fruits.\n",
    "\n",
    "import pandas as pd\n",
    "from scipy.stats import chisquare\n",
    "dataset=pd.read_excel('chi_square_fruits.xlsx',sheet_name=0)\n",
    "chi_statistic, p_value = chisquare(dataset['count'])\n",
    "print(chi_statistic,p_value)\n",
    "print (dataset)\n",
    "\n",
    "#conclude that there is no significant difference in the proportions of mango, banana, lemon, and oranges."
   ]
  },
  {
   "cell_type": "code",
   "execution_count": 1,
   "id": "3b40799c",
   "metadata": {},
   "outputs": [
    {
     "name": "stdout",
     "output_type": "stream",
     "text": [
      "58.542 2.5577238857046623e-09\n"
     ]
    }
   ],
   "source": [
    "#HW: test whether digits may be taken to occur equally frequently in directory\n",
    "\n",
    "#H0: Let us suppose that the digits occur equally frequently in the directory\n",
    "#H1: The digits do not occur equally frequently. \n",
    "\n",
    "\n",
    "import pandas as pd\n",
    "from scipy.stats import chisquare\n",
    "dataset=pd.read_excel('digitfrequency.xlsx')\n",
    "chi_statistic, p_value = chisquare(dataset['Frequency'])\n",
    "print(chi_statistic,p_value)\n",
    "\n",
    "#Since the pvalue is much lesser that 0.05, the null hypothesis is rejected"
   ]
  }
 ],
 "metadata": {
  "kernelspec": {
   "display_name": "Python 3 (ipykernel)",
   "language": "python",
   "name": "python3"
  },
  "language_info": {
   "codemirror_mode": {
    "name": "ipython",
    "version": 3
   },
   "file_extension": ".py",
   "mimetype": "text/x-python",
   "name": "python",
   "nbconvert_exporter": "python",
   "pygments_lexer": "ipython3",
   "version": "3.9.7"
  }
 },
 "nbformat": 4,
 "nbformat_minor": 5
}
