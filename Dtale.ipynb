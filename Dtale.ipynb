{
 "cells": [
  {
   "cell_type": "code",
   "execution_count": 3,
   "id": "0b3ab5a3",
   "metadata": {},
   "outputs": [
    {
     "name": "stdout",
     "output_type": "stream",
     "text": [
      "Collecting dtale\n",
      "  Using cached dtale-2.0.0-py2.py3-none-any.whl (11.4 MB)\n",
      "Requirement already satisfied: pandas in /Users/sunshankar/opt/anaconda3/lib/python3.9/site-packages (from dtale) (1.3.4)\n",
      "Requirement already satisfied: et-xmlfile in /Users/sunshankar/opt/anaconda3/lib/python3.9/site-packages (from dtale) (1.1.0)\n",
      "Requirement already satisfied: statsmodels in /Users/sunshankar/opt/anaconda3/lib/python3.9/site-packages (from dtale) (0.12.2)\n",
      "Collecting dash>=2.0.0\n",
      "  Using cached dash-2.2.0-py3-none-any.whl (8.5 MB)\n",
      "Collecting plotly>=5.0.0\n",
      "  Downloading plotly-5.6.0-py2.py3-none-any.whl (27.7 MB)\n",
      "\u001b[K     |████████████████████████████████| 27.7 MB 5.2 MB/s eta 0:00:012\n",
      "\u001b[?25hRequirement already satisfied: future>=0.14.0 in /Users/sunshankar/opt/anaconda3/lib/python3.9/site-packages (from dtale) (0.18.2)\n",
      "Requirement already satisfied: seaborn in /Users/sunshankar/opt/anaconda3/lib/python3.9/site-packages (from dtale) (0.11.2)\n",
      "Requirement already satisfied: xlrd in /Users/sunshankar/opt/anaconda3/lib/python3.9/site-packages (from dtale) (2.0.1)\n",
      "Collecting lz4\n",
      "  Using cached lz4-4.0.0-cp39-cp39-macosx_10_9_x86_64.whl (90 kB)\n",
      "Collecting kaleido\n",
      "  Using cached kaleido-0.2.1-py2.py3-none-macosx_10_11_x86_64.whl (85.2 MB)\n",
      "Requirement already satisfied: cycler in /Users/sunshankar/opt/anaconda3/lib/python3.9/site-packages (from dtale) (0.10.0)\n",
      "Collecting Flask-Compress\n",
      "  Using cached Flask_Compress-1.10.1-py3-none-any.whl (7.9 kB)\n",
      "Collecting missingno<=0.4.2\n",
      "  Using cached missingno-0.4.2-py3-none-any.whl (9.7 kB)\n",
      "Collecting dash-bootstrap-components\n",
      "  Using cached dash_bootstrap_components-1.0.3-py3-none-any.whl (209 kB)\n",
      "Collecting squarify\n",
      "  Downloading squarify-0.4.3-py3-none-any.whl (4.3 kB)\n",
      "Collecting dash-daq\n",
      "  Using cached dash_daq-0.5.0.tar.gz (642 kB)\n",
      "Collecting dash-colorscales\n",
      "  Using cached dash_colorscales-0.0.4.tar.gz (62 kB)\n",
      "Collecting flask-ngrok\n",
      "  Using cached flask_ngrok-0.0.25-py3-none-any.whl (3.1 kB)\n",
      "Requirement already satisfied: scikit-learn==0.24.2 in /Users/sunshankar/opt/anaconda3/lib/python3.9/site-packages (from dtale) (0.24.2)\n",
      "Requirement already satisfied: openpyxl in /Users/sunshankar/opt/anaconda3/lib/python3.9/site-packages (from dtale) (3.0.9)\n",
      "Requirement already satisfied: itsdangerous in /Users/sunshankar/opt/anaconda3/lib/python3.9/site-packages (from dtale) (2.0.1)\n",
      "Requirement already satisfied: requests in /Users/sunshankar/opt/anaconda3/lib/python3.9/site-packages (from dtale) (2.26.0)\n",
      "Requirement already satisfied: matplotlib in /Users/sunshankar/opt/anaconda3/lib/python3.9/site-packages (from dtale) (3.4.3)\n",
      "Requirement already satisfied: six in /Users/sunshankar/opt/anaconda3/lib/python3.9/site-packages (from dtale) (1.16.0)\n",
      "Requirement already satisfied: scipy in /Users/sunshankar/opt/anaconda3/lib/python3.9/site-packages (from dtale) (1.7.1)\n",
      "Collecting strsimpy\n",
      "  Using cached strsimpy-0.2.1-py3-none-any.whl (45 kB)\n",
      "Collecting ppscore\n",
      "  Using cached ppscore-1.2.0.tar.gz (47 kB)\n",
      "Requirement already satisfied: Flask in /Users/sunshankar/opt/anaconda3/lib/python3.9/site-packages (from dtale) (1.1.2)\n",
      "Requirement already satisfied: networkx in /Users/sunshankar/opt/anaconda3/lib/python3.9/site-packages (from dtale) (2.6.3)\n",
      "Collecting xarray\n",
      "  Using cached xarray-0.21.1-py3-none-any.whl (865 kB)\n",
      "Requirement already satisfied: numpy in /Users/sunshankar/opt/anaconda3/lib/python3.9/site-packages (from dtale) (1.20.3)\n",
      "Requirement already satisfied: threadpoolctl>=2.0.0 in /Users/sunshankar/opt/anaconda3/lib/python3.9/site-packages (from scikit-learn==0.24.2->dtale) (2.2.0)\n",
      "Requirement already satisfied: joblib>=0.11 in /Users/sunshankar/opt/anaconda3/lib/python3.9/site-packages (from scikit-learn==0.24.2->dtale) (1.0.1)\n",
      "Collecting dash-table==5.0.0\n",
      "  Downloading dash_table-5.0.0.tar.gz (3.4 kB)\n",
      "Collecting dash-html-components==2.0.0\n",
      "  Downloading dash_html_components-2.0.0.tar.gz (3.8 kB)\n",
      "Collecting dash-core-components==2.0.0\n",
      "  Downloading dash_core_components-2.0.0.tar.gz (3.4 kB)\n",
      "Requirement already satisfied: Jinja2>=2.10.1 in /Users/sunshankar/opt/anaconda3/lib/python3.9/site-packages (from Flask->dtale) (2.11.3)\n",
      "Requirement already satisfied: Werkzeug>=0.15 in /Users/sunshankar/opt/anaconda3/lib/python3.9/site-packages (from Flask->dtale) (2.0.2)\n",
      "Requirement already satisfied: click>=5.1 in /Users/sunshankar/opt/anaconda3/lib/python3.9/site-packages (from Flask->dtale) (8.0.3)\n",
      "Requirement already satisfied: MarkupSafe>=0.23 in /Users/sunshankar/opt/anaconda3/lib/python3.9/site-packages (from Jinja2>=2.10.1->Flask->dtale) (2.0.1)\n",
      "Collecting tenacity>=6.2.0\n",
      "  Downloading tenacity-8.0.1-py3-none-any.whl (24 kB)\n",
      "Collecting brotli\n",
      "  Downloading Brotli-1.0.9-cp39-cp39-macosx_10_9_x86_64.whl (421 kB)\n",
      "\u001b[K     |████████████████████████████████| 421 kB 1.0 MB/s eta 0:00:01\n",
      "\u001b[?25hRequirement already satisfied: pillow>=6.2.0 in /Users/sunshankar/opt/anaconda3/lib/python3.9/site-packages (from matplotlib->dtale) (8.4.0)\n",
      "Requirement already satisfied: kiwisolver>=1.0.1 in /Users/sunshankar/opt/anaconda3/lib/python3.9/site-packages (from matplotlib->dtale) (1.3.1)\n",
      "Requirement already satisfied: pyparsing>=2.2.1 in /Users/sunshankar/opt/anaconda3/lib/python3.9/site-packages (from matplotlib->dtale) (3.0.4)\n",
      "Requirement already satisfied: python-dateutil>=2.7 in /Users/sunshankar/opt/anaconda3/lib/python3.9/site-packages (from matplotlib->dtale) (2.8.2)\n",
      "Requirement already satisfied: pytz>=2017.3 in /Users/sunshankar/opt/anaconda3/lib/python3.9/site-packages (from pandas->dtale) (2021.3)\n",
      "Requirement already satisfied: urllib3<1.27,>=1.21.1 in /Users/sunshankar/opt/anaconda3/lib/python3.9/site-packages (from requests->dtale) (1.26.7)\n",
      "Requirement already satisfied: certifi>=2017.4.17 in /Users/sunshankar/opt/anaconda3/lib/python3.9/site-packages (from requests->dtale) (2021.10.8)\n",
      "Requirement already satisfied: idna<4,>=2.5 in /Users/sunshankar/opt/anaconda3/lib/python3.9/site-packages (from requests->dtale) (3.2)\n",
      "Requirement already satisfied: charset-normalizer~=2.0.0 in /Users/sunshankar/opt/anaconda3/lib/python3.9/site-packages (from requests->dtale) (2.0.4)\n",
      "Requirement already satisfied: patsy>=0.5 in /Users/sunshankar/opt/anaconda3/lib/python3.9/site-packages (from statsmodels->dtale) (0.5.2)\n",
      "Requirement already satisfied: packaging>=20.0 in /Users/sunshankar/opt/anaconda3/lib/python3.9/site-packages (from xarray->dtale) (21.0)\n",
      "Building wheels for collected packages: dash-core-components, dash-html-components, dash-table, dash-colorscales, dash-daq, ppscore\n",
      "  Building wheel for dash-core-components (setup.py) ... \u001b[?25ldone\n",
      "\u001b[?25h  Created wheel for dash-core-components: filename=dash_core_components-2.0.0-py3-none-any.whl size=3821 sha256=a4e92d973736fa65ba8ec382384abeaa10a957156e39a7a647b1b34f53af02be\n",
      "  Stored in directory: /Users/sunshankar/Library/Caches/pip/wheels/2b/37/e9/4b5a8c878a47590de4dcf6bdc5a158788a1c17bea578a3ab60\n",
      "  Building wheel for dash-html-components (setup.py) ... \u001b[?25ldone\n",
      "\u001b[?25h  Created wheel for dash-html-components: filename=dash_html_components-2.0.0-py3-none-any.whl size=4089 sha256=085a32701d7bbae9768a516c3a3c35113d408230a801e7760aec2bc022224af6\n",
      "  Stored in directory: /Users/sunshankar/Library/Caches/pip/wheels/4d/22/3e/d58dc9820aeffc7b7193d04a63b08f585eef4a1ce836d69141\n",
      "  Building wheel for dash-table (setup.py) ... \u001b[?25ldone\n",
      "\u001b[?25h  Created wheel for dash-table: filename=dash_table-5.0.0-py3-none-any.whl size=3911 sha256=0cf160c6d0b169e677807b0bf75c2f5924e57b1460a426fd0b7d2f0ba5e3419d\n",
      "  Stored in directory: /Users/sunshankar/Library/Caches/pip/wheels/1f/91/7e/015c42538da07aeb06576caca14da7c7416e9275a51fc85811\n",
      "  Building wheel for dash-colorscales (setup.py) ... \u001b[?25ldone\n",
      "\u001b[?25h  Created wheel for dash-colorscales: filename=dash_colorscales-0.0.4-py3-none-any.whl size=62589 sha256=857598d3e209d85b8f6e2c23e95c8eb970a1381109cb3fb91969352b1f7cb82f\n",
      "  Stored in directory: /Users/sunshankar/Library/Caches/pip/wheels/ec/32/ec/dc8a1aa820182edf280a5e26c76fc9493ae29e196735708de2\n",
      "  Building wheel for dash-daq (setup.py) ... \u001b[?25ldone\n",
      "\u001b[?25h  Created wheel for dash-daq: filename=dash_daq-0.5.0-py3-none-any.whl size=669716 sha256=0e4b0dee6190eea086fdf27b3ff01394edd200ed8eb4f9300bd06bf224973184\n",
      "  Stored in directory: /Users/sunshankar/Library/Caches/pip/wheels/53/73/ea/8a422aab5cab848d88653ed3087c1fa05553c3fbd67fb6ab75\n"
     ]
    },
    {
     "name": "stdout",
     "output_type": "stream",
     "text": [
      "  Building wheel for ppscore (setup.py) ... \u001b[?25ldone\n",
      "\u001b[?25h  Created wheel for ppscore: filename=ppscore-1.2.0-py2.py3-none-any.whl size=13068 sha256=498a843ec55891852358570efdf21c22c6a5c9c272f8faf68362496f5d9d9ac2\n",
      "  Stored in directory: /Users/sunshankar/Library/Caches/pip/wheels/66/5f/af/a0de66f8359588661c0b1239580f4788dba33a4a1e504ef682\n",
      "Successfully built dash-core-components dash-html-components dash-table dash-colorscales dash-daq ppscore\n",
      "Installing collected packages: tenacity, brotli, plotly, Flask-Compress, dash-table, dash-html-components, dash-core-components, dash, xarray, strsimpy, squarify, ppscore, missingno, lz4, kaleido, flask-ngrok, dash-daq, dash-colorscales, dash-bootstrap-components, dtale\n",
      "  Attempting uninstall: missingno\n",
      "    Found existing installation: missingno 0.5.0\n",
      "    Uninstalling missingno-0.5.0:\n",
      "      Successfully uninstalled missingno-0.5.0\n",
      "Successfully installed Flask-Compress-1.10.1 brotli-1.0.9 dash-2.2.0 dash-bootstrap-components-1.0.3 dash-colorscales-0.0.4 dash-core-components-2.0.0 dash-daq-0.5.0 dash-html-components-2.0.0 dash-table-5.0.0 dtale-2.0.0 flask-ngrok-0.0.25 kaleido-0.2.1 lz4-4.0.0 missingno-0.4.2 plotly-5.6.0 ppscore-1.2.0 squarify-0.4.3 strsimpy-0.2.1 tenacity-8.0.1 xarray-0.21.1\n"
     ]
    }
   ],
   "source": [
    "! pip install dtale"
   ]
  },
  {
   "cell_type": "code",
   "execution_count": 1,
   "id": "649b97b1",
   "metadata": {},
   "outputs": [
    {
     "data": {
      "text/html": [
       "\n",
       "        <iframe\n",
       "            width=\"100%\"\n",
       "            height=\"475\"\n",
       "            src=\"http://localhost:40000/dtale/iframe/1\"\n",
       "            frameborder=\"0\"\n",
       "            allowfullscreen\n",
       "            \n",
       "        ></iframe>\n",
       "        "
      ],
      "text/plain": [
       "<IPython.lib.display.IFrame at 0x7fc030716160>"
      ]
     },
     "metadata": {},
     "output_type": "display_data"
    },
    {
     "data": {
      "text/plain": []
     },
     "execution_count": 1,
     "metadata": {},
     "output_type": "execute_result"
    }
   ],
   "source": [
    "import dtale\n",
    "import pandas as pd\n",
    "df = pd.read_csv(\"Rev_Margin.csv\")\n",
    "df.describe()\n",
    "d = dtale.show(df)\n",
    "d"
   ]
  }
 ],
 "metadata": {
  "kernelspec": {
   "display_name": "Python 3 (ipykernel)",
   "language": "python",
   "name": "python3"
  },
  "language_info": {
   "codemirror_mode": {
    "name": "ipython",
    "version": 3
   },
   "file_extension": ".py",
   "mimetype": "text/x-python",
   "name": "python",
   "nbconvert_exporter": "python",
   "pygments_lexer": "ipython3",
   "version": "3.9.7"
  }
 },
 "nbformat": 4,
 "nbformat_minor": 5
}
