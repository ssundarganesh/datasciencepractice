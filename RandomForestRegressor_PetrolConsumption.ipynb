{
 "cells": [
  {
   "cell_type": "code",
   "execution_count": 1,
   "id": "70ca12f7",
   "metadata": {},
   "outputs": [
    {
     "data": {
      "text/html": [
       "<div>\n",
       "<style scoped>\n",
       "    .dataframe tbody tr th:only-of-type {\n",
       "        vertical-align: middle;\n",
       "    }\n",
       "\n",
       "    .dataframe tbody tr th {\n",
       "        vertical-align: top;\n",
       "    }\n",
       "\n",
       "    .dataframe thead th {\n",
       "        text-align: right;\n",
       "    }\n",
       "</style>\n",
       "<table border=\"1\" class=\"dataframe\">\n",
       "  <thead>\n",
       "    <tr style=\"text-align: right;\">\n",
       "      <th></th>\n",
       "      <th>Petrol_tax</th>\n",
       "      <th>Average_income</th>\n",
       "      <th>Paved_Highways</th>\n",
       "      <th>Population_Driver_licence(%)</th>\n",
       "      <th>Petrol_Consumption</th>\n",
       "    </tr>\n",
       "  </thead>\n",
       "  <tbody>\n",
       "    <tr>\n",
       "      <th>0</th>\n",
       "      <td>9.0</td>\n",
       "      <td>3571</td>\n",
       "      <td>1976</td>\n",
       "      <td>0.525</td>\n",
       "      <td>541</td>\n",
       "    </tr>\n",
       "    <tr>\n",
       "      <th>1</th>\n",
       "      <td>9.0</td>\n",
       "      <td>4092</td>\n",
       "      <td>1250</td>\n",
       "      <td>0.572</td>\n",
       "      <td>524</td>\n",
       "    </tr>\n",
       "    <tr>\n",
       "      <th>2</th>\n",
       "      <td>9.0</td>\n",
       "      <td>3865</td>\n",
       "      <td>1586</td>\n",
       "      <td>0.580</td>\n",
       "      <td>561</td>\n",
       "    </tr>\n",
       "    <tr>\n",
       "      <th>3</th>\n",
       "      <td>7.5</td>\n",
       "      <td>4870</td>\n",
       "      <td>2351</td>\n",
       "      <td>0.529</td>\n",
       "      <td>414</td>\n",
       "    </tr>\n",
       "    <tr>\n",
       "      <th>4</th>\n",
       "      <td>8.0</td>\n",
       "      <td>4399</td>\n",
       "      <td>431</td>\n",
       "      <td>0.544</td>\n",
       "      <td>410</td>\n",
       "    </tr>\n",
       "  </tbody>\n",
       "</table>\n",
       "</div>"
      ],
      "text/plain": [
       "   Petrol_tax  Average_income  Paved_Highways  Population_Driver_licence(%)  \\\n",
       "0         9.0            3571            1976                         0.525   \n",
       "1         9.0            4092            1250                         0.572   \n",
       "2         9.0            3865            1586                         0.580   \n",
       "3         7.5            4870            2351                         0.529   \n",
       "4         8.0            4399             431                         0.544   \n",
       "\n",
       "   Petrol_Consumption  \n",
       "0                 541  \n",
       "1                 524  \n",
       "2                 561  \n",
       "3                 414  \n",
       "4                 410  "
      ]
     },
     "execution_count": 1,
     "metadata": {},
     "output_type": "execute_result"
    }
   ],
   "source": [
    "import pandas as pd \n",
    "import numpy as np \n",
    "dataset = pd.read_csv('petrol_consumption.csv') \n",
    "dataset.head()"
   ]
  },
  {
   "cell_type": "code",
   "execution_count": 2,
   "id": "fd3c5348",
   "metadata": {},
   "outputs": [],
   "source": [
    "# Assign values for X and y: \n",
    "# y being the perdicor, use Petrol Consumption, while we supply all the other data points as X\n",
    "X = dataset.iloc[:, 0:4].values \n",
    "y = dataset.iloc[:, 4].values"
   ]
  },
  {
   "cell_type": "code",
   "execution_count": 3,
   "id": "65247229",
   "metadata": {},
   "outputs": [
    {
     "data": {
      "text/plain": [
       "array([[9.0000e+00, 3.5710e+03, 1.9760e+03, 5.2500e-01],\n",
       "       [9.0000e+00, 4.0920e+03, 1.2500e+03, 5.7200e-01],\n",
       "       [9.0000e+00, 3.8650e+03, 1.5860e+03, 5.8000e-01],\n",
       "       [7.5000e+00, 4.8700e+03, 2.3510e+03, 5.2900e-01],\n",
       "       [8.0000e+00, 4.3990e+03, 4.3100e+02, 5.4400e-01],\n",
       "       [1.0000e+01, 5.3420e+03, 1.3330e+03, 5.7100e-01],\n",
       "       [8.0000e+00, 5.3190e+03, 1.1868e+04, 4.5100e-01],\n",
       "       [8.0000e+00, 5.1260e+03, 2.1380e+03, 5.5300e-01],\n",
       "       [8.0000e+00, 4.4470e+03, 8.5770e+03, 5.2900e-01],\n",
       "       [7.0000e+00, 4.5120e+03, 8.5070e+03, 5.5200e-01],\n",
       "       [8.0000e+00, 4.3910e+03, 5.9390e+03, 5.3000e-01],\n",
       "       [7.5000e+00, 5.1260e+03, 1.4186e+04, 5.2500e-01],\n",
       "       [7.0000e+00, 4.8170e+03, 6.9300e+03, 5.7400e-01],\n",
       "       [7.0000e+00, 4.2070e+03, 6.5800e+03, 5.4500e-01],\n",
       "       [7.0000e+00, 4.3320e+03, 8.1590e+03, 6.0800e-01],\n",
       "       [7.0000e+00, 4.3180e+03, 1.0340e+04, 5.8600e-01],\n",
       "       [7.0000e+00, 4.2060e+03, 8.5080e+03, 5.7200e-01],\n",
       "       [7.0000e+00, 3.7180e+03, 4.7250e+03, 5.4000e-01],\n",
       "       [7.0000e+00, 4.7160e+03, 5.9150e+03, 7.2400e-01],\n",
       "       [8.5000e+00, 4.3410e+03, 6.0100e+03, 6.7700e-01],\n",
       "       [7.0000e+00, 4.5930e+03, 7.8340e+03, 6.6300e-01],\n",
       "       [8.0000e+00, 4.9830e+03, 6.0200e+02, 6.0200e-01],\n",
       "       [9.0000e+00, 4.8970e+03, 2.4490e+03, 5.1100e-01],\n",
       "       [9.0000e+00, 4.2580e+03, 4.6860e+03, 5.1700e-01],\n",
       "       [8.5000e+00, 4.5740e+03, 2.6190e+03, 5.5100e-01],\n",
       "       [9.0000e+00, 3.7210e+03, 4.7460e+03, 5.4400e-01],\n",
       "       [8.0000e+00, 3.4480e+03, 5.3990e+03, 5.4800e-01],\n",
       "       [7.5000e+00, 3.8460e+03, 9.0610e+03, 5.7900e-01],\n",
       "       [8.0000e+00, 4.1880e+03, 5.9750e+03, 5.6300e-01],\n",
       "       [9.0000e+00, 3.6010e+03, 4.6500e+03, 4.9300e-01],\n",
       "       [7.0000e+00, 3.6400e+03, 6.9050e+03, 5.1800e-01],\n",
       "       [7.0000e+00, 3.3330e+03, 6.5940e+03, 5.1300e-01],\n",
       "       [8.0000e+00, 3.0630e+03, 6.5240e+03, 5.7800e-01],\n",
       "       [7.5000e+00, 3.3570e+03, 4.1210e+03, 5.4700e-01],\n",
       "       [8.0000e+00, 3.5280e+03, 3.4950e+03, 4.8700e-01],\n",
       "       [6.5800e+00, 3.8020e+03, 7.8340e+03, 6.2900e-01],\n",
       "       [5.0000e+00, 4.0450e+03, 1.7782e+04, 5.6600e-01],\n",
       "       [7.0000e+00, 3.8970e+03, 6.3850e+03, 5.8600e-01],\n",
       "       [8.5000e+00, 3.6350e+03, 3.2740e+03, 6.6300e-01],\n",
       "       [7.0000e+00, 4.3450e+03, 3.9050e+03, 6.7200e-01],\n",
       "       [7.0000e+00, 4.4490e+03, 4.6390e+03, 6.2600e-01],\n",
       "       [7.0000e+00, 3.6560e+03, 3.9850e+03, 5.6300e-01],\n",
       "       [7.0000e+00, 4.3000e+03, 3.6350e+03, 6.0300e-01],\n",
       "       [7.0000e+00, 3.7450e+03, 2.6110e+03, 5.0800e-01],\n",
       "       [6.0000e+00, 5.2150e+03, 2.3020e+03, 6.7200e-01],\n",
       "       [9.0000e+00, 4.4760e+03, 3.9420e+03, 5.7100e-01],\n",
       "       [7.0000e+00, 4.2960e+03, 4.0830e+03, 6.2300e-01],\n",
       "       [7.0000e+00, 5.0020e+03, 9.7940e+03, 5.9300e-01]])"
      ]
     },
     "execution_count": 3,
     "metadata": {},
     "output_type": "execute_result"
    }
   ],
   "source": [
    "#Let's check the assignment above\n",
    "X"
   ]
  },
  {
   "cell_type": "code",
   "execution_count": 4,
   "id": "d0f02da4",
   "metadata": {},
   "outputs": [
    {
     "data": {
      "text/plain": [
       "array([541, 524, 561, 414, 410, 457, 344, 467, 464, 498, 580, 471, 525,\n",
       "       508, 566, 635, 603, 714, 865, 640, 649, 540, 464, 547, 460, 566,\n",
       "       577, 631, 574, 534, 571, 554, 577, 628, 487, 644, 640, 704, 648,\n",
       "       968, 587, 699, 632, 591, 782, 510, 610, 524], dtype=int64)"
      ]
     },
     "execution_count": 4,
     "metadata": {},
     "output_type": "execute_result"
    }
   ],
   "source": [
    "y"
   ]
  },
  {
   "cell_type": "code",
   "execution_count": 7,
   "id": "628f96c3",
   "metadata": {},
   "outputs": [],
   "source": [
    "# Now, let's import sklearn and do a split for train and test, let's have test size to be 20%\n",
    "from sklearn.model_selection import train_test_split \n",
    "X_train, X_test, y_train, y_test = train_test_split(X, y, test_size=0.2, random_state=0)\n"
   ]
  },
  {
   "cell_type": "code",
   "execution_count": 13,
   "id": "3b977274",
   "metadata": {},
   "outputs": [
    {
     "data": {
      "text/plain": [
       "array([[ 1.35447518, -1.33452296, -0.31161731, -1.48308699],\n",
       "       [ 0.36314126,  0.15174391, -1.44873146, -0.57895909],\n",
       "       [ 0.36314126, -1.6194839 , -0.10974518, -0.5080471 ],\n",
       "       [-0.62819265, -1.26188585,  0.29615525, -1.03988704],\n",
       "       [ 0.36314126, -2.33654247,  0.19346729,  0.02379284],\n",
       "       [-0.62819265, -0.78322597,  0.1560037 ,  0.16561682],\n",
       "       [ 0.36314126, -1.47048471, -0.62291545, -1.58945498],\n",
       "       [-0.62819265,  0.2448684 , -0.31458205,  0.87473675],\n",
       "       [ 0.36314126,  1.50577399, -0.98865707, -0.41940711],\n",
       "       [ 0.36314126,  0.13684399,  0.0357968 , -0.82715107]])"
      ]
     },
     "execution_count": 13,
     "metadata": {},
     "output_type": "execute_result"
    }
   ],
   "source": [
    "X_test"
   ]
  },
  {
   "cell_type": "code",
   "execution_count": 8,
   "id": "2af23dfb",
   "metadata": {},
   "outputs": [],
   "source": [
    "# Now, let's do a feature scaling since we have the data in various scale. In this scenario, let's use standard scaler and split\n",
    "\n",
    "# Feature Scaling \n",
    "from sklearn.preprocessing import StandardScaler \n",
    "sc = StandardScaler() \n",
    "X_train = sc.fit_transform(X_train) \n",
    "X_test = sc.transform(X_test)"
   ]
  },
  {
   "cell_type": "code",
   "execution_count": 14,
   "id": "583cdae2",
   "metadata": {
    "scrolled": true
   },
   "outputs": [
    {
     "data": {
      "text/plain": [
       "array([[ 1.35447518, -1.33452296, -0.31161731, -1.48308699],\n",
       "       [ 0.36314126,  0.15174391, -1.44873146, -0.57895909],\n",
       "       [ 0.36314126, -1.6194839 , -0.10974518, -0.5080471 ],\n",
       "       [-0.62819265, -1.26188585,  0.29615525, -1.03988704],\n",
       "       [ 0.36314126, -2.33654247,  0.19346729,  0.02379284],\n",
       "       [-0.62819265, -0.78322597,  0.1560037 ,  0.16561682],\n",
       "       [ 0.36314126, -1.47048471, -0.62291545, -1.58945498],\n",
       "       [-0.62819265,  0.2448684 , -0.31458205,  0.87473675],\n",
       "       [ 0.36314126,  1.50577399, -0.98865707, -0.41940711],\n",
       "       [ 0.36314126,  0.13684399,  0.0357968 , -0.82715107]])"
      ]
     },
     "execution_count": 14,
     "metadata": {},
     "output_type": "execute_result"
    }
   ],
   "source": [
    "X_test"
   ]
  },
  {
   "cell_type": "code",
   "execution_count": 15,
   "id": "223d66dc",
   "metadata": {},
   "outputs": [],
   "source": [
    "# Let's train the algorithm now\n",
    "from sklearn.ensemble import RandomForestRegressor \n",
    "regressor = RandomForestRegressor(n_estimators=20,random_state=0) \n",
    "regressor.fit(X_train, y_train) \n",
    "y_pred = regressor.predict(X_test)"
   ]
  },
  {
   "cell_type": "markdown",
   "id": "520b07d5",
   "metadata": {},
   "source": [
    "##### After, training, we need evaluate the algorithm. For regression problems, the metrics used to evalueate are Mean Absolute Error, Mean Squared Error, and root mean squared error"
   ]
  },
  {
   "cell_type": "code",
   "execution_count": 16,
   "id": "ea7ac58b",
   "metadata": {},
   "outputs": [
    {
     "name": "stdout",
     "output_type": "stream",
     "text": [
      "Mean Absolute Error: 51.76500000000001\n",
      "Mean Squared Error: 4216.166749999999\n",
      "Root Mean Squared Error: 64.93201637097064\n"
     ]
    }
   ],
   "source": [
    "from sklearn import metrics \n",
    "print('Mean Absolute Error:', metrics.mean_absolute_error(y_test, y_pred)) \n",
    "print('Mean Squared Error:', metrics.mean_squared_error(y_test, y_pred)) \n",
    "print('Root Mean Squared Error:', \n",
    "np.sqrt(metrics.mean_squared_error(y_test, y_pred)))"
   ]
  },
  {
   "cell_type": "code",
   "execution_count": 17,
   "id": "a2df68a3",
   "metadata": {},
   "outputs": [],
   "source": [
    "# Now, let's increase the number of estimators to be 200\n",
    "# Let's train the algorithm now\n",
    "from sklearn.ensemble import RandomForestRegressor \n",
    "regressor = RandomForestRegressor(n_estimators=200,random_state=0) \n",
    "regressor.fit(X_train, y_train) \n",
    "y_pred = regressor.predict(X_test)"
   ]
  },
  {
   "cell_type": "code",
   "execution_count": 18,
   "id": "13aa3bd4",
   "metadata": {},
   "outputs": [
    {
     "name": "stdout",
     "output_type": "stream",
     "text": [
      "Mean Absolute Error: 48.33899999999999\n",
      "Mean Squared Error: 3494.2330150000003\n",
      "Root Mean Squared Error: 59.112037818028234\n"
     ]
    }
   ],
   "source": [
    "#and print the metrics again\n",
    "print('Mean Absolute Error:', metrics.mean_absolute_error(y_test, y_pred)) \n",
    "print('Mean Squared Error:', metrics.mean_squared_error(y_test, y_pred)) \n",
    "print('Root Mean Squared Error:', \n",
    "np.sqrt(metrics.mean_squared_error(y_test, y_pred)))"
   ]
  },
  {
   "cell_type": "code",
   "execution_count": null,
   "id": "0f72e76d",
   "metadata": {},
   "outputs": [],
   "source": [
    "# We see some inprovement in the metrics number. We can also increase the estimator to a higher value"
   ]
  },
  {
   "cell_type": "code",
   "execution_count": 20,
   "id": "04f6e2cd",
   "metadata": {},
   "outputs": [],
   "source": [
    "# Now, let's increase the number of estimators to be 1000\n",
    "# Let's train the algorithm now\n",
    "from sklearn.ensemble import RandomForestRegressor \n",
    "regressor = RandomForestRegressor(n_estimators=1000,random_state=0) \n",
    "regressor.fit(X_train, y_train) \n",
    "y_pred = regressor.predict(X_test)"
   ]
  },
  {
   "cell_type": "code",
   "execution_count": 21,
   "id": "31153c55",
   "metadata": {},
   "outputs": [
    {
     "name": "stdout",
     "output_type": "stream",
     "text": [
      "Mean Absolute Error: 49.008599999999994\n",
      "Mean Squared Error: 3578.0530116\n",
      "Root Mean Squared Error: 59.81682883269557\n"
     ]
    }
   ],
   "source": [
    "#and print the metrics again\n",
    "print('Mean Absolute Error:', metrics.mean_absolute_error(y_test, y_pred)) \n",
    "print('Mean Squared Error:', metrics.mean_squared_error(y_test, y_pred)) \n",
    "print('Root Mean Squared Error:', \n",
    "np.sqrt(metrics.mean_squared_error(y_test, y_pred)))"
   ]
  },
  {
   "cell_type": "code",
   "execution_count": null,
   "id": "7140c5a3",
   "metadata": {},
   "outputs": [],
   "source": [
    "# between 200 and 1000, there is no improvement per se, so, let's stick to the 200"
   ]
  },
  {
   "cell_type": "code",
   "execution_count": 22,
   "id": "c2169107",
   "metadata": {},
   "outputs": [],
   "source": [
    "# Now, let's stick to the number of estimators to be 200\n",
    "# Let's train the algorithm now\n",
    "from sklearn.ensemble import RandomForestRegressor \n",
    "regressor = RandomForestRegressor(n_estimators=200,random_state=0) \n",
    "regressor.fit(X_train, y_train) \n",
    "y_pred = regressor.predict(X_test)"
   ]
  },
  {
   "cell_type": "code",
   "execution_count": 23,
   "id": "dbfc36d9",
   "metadata": {},
   "outputs": [
    {
     "name": "stdout",
     "output_type": "stream",
     "text": [
      "Mean Absolute Error: 48.33899999999999\n",
      "Mean Squared Error: 3494.2330150000003\n",
      "Root Mean Squared Error: 59.112037818028234\n"
     ]
    }
   ],
   "source": [
    "#and print the metrics again\n",
    "print('Mean Absolute Error:', metrics.mean_absolute_error(y_test, y_pred)) \n",
    "print('Mean Squared Error:', metrics.mean_squared_error(y_test, y_pred)) \n",
    "print('Root Mean Squared Error:', \n",
    "np.sqrt(metrics.mean_squared_error(y_test, y_pred)))"
   ]
  }
 ],
 "metadata": {
  "kernelspec": {
   "display_name": "Python 3 (ipykernel)",
   "language": "python",
   "name": "python3"
  },
  "language_info": {
   "codemirror_mode": {
    "name": "ipython",
    "version": 3
   },
   "file_extension": ".py",
   "mimetype": "text/x-python",
   "name": "python",
   "nbconvert_exporter": "python",
   "pygments_lexer": "ipython3",
   "version": "3.9.12"
  }
 },
 "nbformat": 4,
 "nbformat_minor": 5
}
