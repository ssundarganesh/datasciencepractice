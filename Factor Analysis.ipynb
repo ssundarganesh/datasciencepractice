{
 "cells": [
  {
   "cell_type": "code",
   "execution_count": 2,
   "id": "1553d7a5",
   "metadata": {},
   "outputs": [
    {
     "data": {
      "text/html": [
       "<div>\n",
       "<style scoped>\n",
       "    .dataframe tbody tr th:only-of-type {\n",
       "        vertical-align: middle;\n",
       "    }\n",
       "\n",
       "    .dataframe tbody tr th {\n",
       "        vertical-align: top;\n",
       "    }\n",
       "\n",
       "    .dataframe thead th {\n",
       "        text-align: right;\n",
       "    }\n",
       "</style>\n",
       "<table border=\"1\" class=\"dataframe\">\n",
       "  <thead>\n",
       "    <tr style=\"text-align: right;\">\n",
       "      <th></th>\n",
       "      <th>X110</th>\n",
       "      <th>X111</th>\n",
       "      <th>X112</th>\n",
       "      <th>X113</th>\n",
       "      <th>X114</th>\n",
       "      <th>X116</th>\n",
       "      <th>X117</th>\n",
       "    </tr>\n",
       "  </thead>\n",
       "  <tbody>\n",
       "    <tr>\n",
       "      <th>0</th>\n",
       "      <td>4</td>\n",
       "      <td>4</td>\n",
       "      <td>3</td>\n",
       "      <td>4</td>\n",
       "      <td>4</td>\n",
       "      <td>5</td>\n",
       "      <td>4</td>\n",
       "    </tr>\n",
       "    <tr>\n",
       "      <th>1</th>\n",
       "      <td>5</td>\n",
       "      <td>4</td>\n",
       "      <td>3</td>\n",
       "      <td>4</td>\n",
       "      <td>3</td>\n",
       "      <td>5</td>\n",
       "      <td>4</td>\n",
       "    </tr>\n",
       "    <tr>\n",
       "      <th>2</th>\n",
       "      <td>5</td>\n",
       "      <td>5</td>\n",
       "      <td>3</td>\n",
       "      <td>5</td>\n",
       "      <td>3</td>\n",
       "      <td>4</td>\n",
       "      <td>3</td>\n",
       "    </tr>\n",
       "    <tr>\n",
       "      <th>3</th>\n",
       "      <td>5</td>\n",
       "      <td>4</td>\n",
       "      <td>2</td>\n",
       "      <td>4</td>\n",
       "      <td>2</td>\n",
       "      <td>5</td>\n",
       "      <td>4</td>\n",
       "    </tr>\n",
       "    <tr>\n",
       "      <th>4</th>\n",
       "      <td>5</td>\n",
       "      <td>4</td>\n",
       "      <td>1</td>\n",
       "      <td>5</td>\n",
       "      <td>3</td>\n",
       "      <td>4</td>\n",
       "      <td>2</td>\n",
       "    </tr>\n",
       "  </tbody>\n",
       "</table>\n",
       "</div>"
      ],
      "text/plain": [
       "   X110  X111  X112  X113  X114  X116  X117\n",
       "0     4     4     3     4     4     5     4\n",
       "1     5     4     3     4     3     5     4\n",
       "2     5     5     3     5     3     4     3\n",
       "3     5     4     2     4     2     5     4\n",
       "4     5     4     1     5     3     4     2"
      ]
     },
     "execution_count": 2,
     "metadata": {},
     "output_type": "execute_result"
    }
   ],
   "source": [
    "import pandas as pd\n",
    "from sklearn.decomposition import PCA\n",
    "\n",
    "factor_analysis=pd.read_excel(\"2.Factor Analysis.xlsx\",sheet_name=0)\n",
    "\n",
    "factor_analysis.head()"
   ]
  },
  {
   "cell_type": "code",
   "execution_count": 12,
   "id": "c34aa5a6",
   "metadata": {},
   "outputs": [
    {
     "data": {
      "text/plain": [
       "PCA(n_components=7)"
      ]
     },
     "execution_count": 12,
     "metadata": {},
     "output_type": "execute_result"
    }
   ],
   "source": [
    "# import scale from sklearn preprocessing. It helps us treat all the columns / variables at the same unit\n",
    "# define an array and hold all the values in the array\n",
    "# scale the array relative to each other\n",
    "\n",
    "from sklearn.preprocessing import scale\n",
    "\n",
    "X=factor_analysis.values\n",
    "\n",
    "X1=scale(X)\n",
    "\n",
    "pca=PCA(n_components=7)\n",
    "\n",
    "pca.fit(X)"
   ]
  },
  {
   "cell_type": "code",
   "execution_count": 4,
   "id": "cf36f5a5",
   "metadata": {
    "scrolled": true
   },
   "outputs": [
    {
     "name": "stdout",
     "output_type": "stream",
     "text": [
      "[2.03790844 1.29768268 1.18700794 0.96147898 0.68175073 0.50540902\n",
      " 0.3639381 ]\n"
     ]
    }
   ],
   "source": [
    "# now, check the explained variance\n",
    "print(pca.explained_variance_)"
   ]
  },
  {
   "cell_type": "code",
   "execution_count": 14,
   "id": "c6324526",
   "metadata": {},
   "outputs": [
    {
     "data": {
      "text/plain": [
       "array([[4, 4, 3, ..., 4, 5, 4],\n",
       "       [5, 4, 3, ..., 3, 5, 4],\n",
       "       [5, 5, 3, ..., 3, 4, 3],\n",
       "       ...,\n",
       "       [4, 4, 5, ..., 3, 3, 3],\n",
       "       [4, 3, 4, ..., 4, 4, 3],\n",
       "       [1, 5, 4, ..., 5, 5, 5]])"
      ]
     },
     "execution_count": 14,
     "metadata": {},
     "output_type": "execute_result"
    }
   ],
   "source": [
    "X"
   ]
  },
  {
   "cell_type": "code",
   "execution_count": 15,
   "id": "d95dd483",
   "metadata": {
    "scrolled": true
   },
   "outputs": [
    {
     "data": {
      "text/plain": [
       "array([[-0.12512162, -0.40975395, -0.33004819, ...,  0.29179593,\n",
       "         0.89177093,  0.26090919],\n",
       "       [-0.11685185, -0.40975395, -0.33004819, ..., -0.89920786,\n",
       "         0.89177093,  0.26090919],\n",
       "       [-0.11685185,  1.02797921, -0.33004819, ..., -0.89920786,\n",
       "        -0.57014863, -0.8734786 ],\n",
       "       ...,\n",
       "       [-0.12512162, -0.40975395,  1.40704753, ..., -0.89920786,\n",
       "        -2.03206819, -0.8734786 ],\n",
       "       [-0.12512162, -1.84748711,  0.53849967, ...,  0.29179593,\n",
       "        -0.57014863, -0.8734786 ],\n",
       "       [-0.14993094,  1.02797921,  0.53849967, ...,  1.48279971,\n",
       "         0.89177093,  1.39529699]])"
      ]
     },
     "execution_count": 15,
     "metadata": {},
     "output_type": "execute_result"
    }
   ],
   "source": [
    "X1"
   ]
  },
  {
   "cell_type": "code",
   "execution_count": 16,
   "id": "a85b4b0a",
   "metadata": {},
   "outputs": [
    {
     "name": "stdout",
     "output_type": "stream",
     "text": [
      "          0         1         2         3         4         5         6\n",
      "0  0.999998 -0.001311  0.000615 -0.000209 -0.000781  0.000632  0.001255\n",
      "1  0.000614 -0.129214 -0.763794 -0.128341 -0.390808 -0.080444 -0.473548\n",
      "2 -0.000178 -0.232440  0.589329 -0.144333 -0.409463 -0.475214 -0.429352\n",
      "3  0.000347  0.131229  0.008447 -0.924980  0.346098  0.006192 -0.085423\n",
      "4 -0.001983 -0.768131 -0.026708 -0.248924 -0.253844  0.187127  0.497836\n",
      "5  0.000474 -0.538233 -0.110280  0.207303  0.702428 -0.307830 -0.258851\n",
      "6 -0.000191 -0.179812  0.237408  0.046588  0.044531  0.798677 -0.518909\n"
     ]
    }
   ],
   "source": [
    "# let's look at the items that are considered for pca as components\n",
    "print(pd.DataFrame(pca.components_))"
   ]
  },
  {
   "cell_type": "code",
   "execution_count": 17,
   "id": "fe657053",
   "metadata": {},
   "outputs": [],
   "source": [
    "# We get 7 columns because, we had set the n_components to be 7\n",
    "# Let's change it to 3"
   ]
  },
  {
   "cell_type": "code",
   "execution_count": 21,
   "id": "e087654d",
   "metadata": {},
   "outputs": [
    {
     "data": {
      "text/plain": [
       "PCA(n_components=3)"
      ]
     },
     "execution_count": 21,
     "metadata": {},
     "output_type": "execute_result"
    }
   ],
   "source": [
    "pca3=PCA(n_components=3)\n",
    "pca3.fit(X)"
   ]
  },
  {
   "cell_type": "code",
   "execution_count": 22,
   "id": "22428e0b",
   "metadata": {},
   "outputs": [
    {
     "name": "stdout",
     "output_type": "stream",
     "text": [
      "          0         1         2         3         4         5         6\n",
      "0  0.999998 -0.001311  0.000615 -0.000209 -0.000781  0.000632  0.001255\n",
      "1  0.000614 -0.129214 -0.763794 -0.128341 -0.390808 -0.080444 -0.473548\n",
      "2 -0.000178 -0.232440  0.589329 -0.144333 -0.409463 -0.475214 -0.429352\n"
     ]
    }
   ],
   "source": [
    "print(pd.DataFrame(pca3.components_))"
   ]
  },
  {
   "cell_type": "code",
   "execution_count": 23,
   "id": "97f6def4",
   "metadata": {},
   "outputs": [
    {
     "name": "stdout",
     "output_type": "stream",
     "text": [
      "[1.46957610e+04 1.56419739e+00 1.14152668e+00]\n",
      "[9.99709209e-01 1.06407728e-04 7.76546883e-05]\n"
     ]
    }
   ],
   "source": [
    "print(pca.explained_variance_)\n",
    "print(pca.explained_variance_ratio_)"
   ]
  },
  {
   "cell_type": "code",
   "execution_count": null,
   "id": "a0ebd080",
   "metadata": {},
   "outputs": [],
   "source": []
  }
 ],
 "metadata": {
  "kernelspec": {
   "display_name": "Python 3 (ipykernel)",
   "language": "python",
   "name": "python3"
  },
  "language_info": {
   "codemirror_mode": {
    "name": "ipython",
    "version": 3
   },
   "file_extension": ".py",
   "mimetype": "text/x-python",
   "name": "python",
   "nbconvert_exporter": "python",
   "pygments_lexer": "ipython3",
   "version": "3.9.7"
  }
 },
 "nbformat": 4,
 "nbformat_minor": 5
}
