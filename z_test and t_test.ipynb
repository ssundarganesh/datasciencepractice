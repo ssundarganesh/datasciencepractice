{
 "cells": [
  {
   "cell_type": "code",
   "execution_count": 1,
   "id": "93a8465e",
   "metadata": {},
   "outputs": [
    {
     "data": {
      "text/plain": [
       "(2.004934757494507, 0.04497002231816061)"
      ]
     },
     "execution_count": 1,
     "metadata": {},
     "output_type": "execute_result"
    }
   ],
   "source": [
    "# one sample z test\n",
    "from statsmodels.stats.weightstats import ztest as ztest\n",
    "\n",
    "data=[88,92,94,94,96,97,97,99,99,105,109,109,109,110,112,112,113,114,115,115]\n",
    "ztest(data,value=100)"
   ]
  },
  {
   "cell_type": "code",
   "execution_count": 2,
   "id": "5b03b0f1",
   "metadata": {},
   "outputs": [],
   "source": [
    "# Since p_value is 0.04 which is less than the error rate(0.05), we reject the NH "
   ]
  },
  {
   "cell_type": "code",
   "execution_count": 3,
   "id": "4f623a37",
   "metadata": {},
   "outputs": [
    {
     "data": {
      "text/plain": [
       "array([43, 20, 20, 32, 45, 20, 30, 45, 35, 30])"
      ]
     },
     "execution_count": 3,
     "metadata": {},
     "output_type": "execute_result"
    }
   ],
   "source": [
    "# 1 samp t-test\n",
    "ages=[10,20,30,35,40,66,55,32,43,34,45]\n",
    "\n",
    "import numpy as np\n",
    "\n",
    "ages_mean=np.mean(ages)\n",
    "\n",
    "sample_size=10\n",
    "\n",
    "age_sample=np.random.choice(ages,sample_size)\n",
    "\n",
    "age_sample"
   ]
  },
  {
   "cell_type": "code",
   "execution_count": 4,
   "id": "89bab1ad",
   "metadata": {},
   "outputs": [
    {
     "data": {
      "text/plain": [
       "Ttest_1sampResult(statistic=0.6296632202416702, pvalue=0.5445661583871761)"
      ]
     },
     "execution_count": 4,
     "metadata": {},
     "output_type": "execute_result"
    }
   ],
   "source": [
    "from scipy.stats import ttest_1samp\n",
    "ttest_1samp(age_sample,30)"
   ]
  },
  {
   "cell_type": "code",
   "execution_count": 5,
   "id": "fe6577eb",
   "metadata": {},
   "outputs": [
    {
     "data": {
      "text/plain": [
       "37.27272727272727"
      ]
     },
     "execution_count": 5,
     "metadata": {},
     "output_type": "execute_result"
    }
   ],
   "source": [
    "ages_mean"
   ]
  },
  {
   "cell_type": "code",
   "execution_count": 6,
   "id": "3e314bef",
   "metadata": {},
   "outputs": [
    {
     "data": {
      "text/plain": [
       "Ttest_1sampResult(statistic=1.5641237740115501, pvalue=0.1488546766476606)"
      ]
     },
     "execution_count": 6,
     "metadata": {},
     "output_type": "execute_result"
    }
   ],
   "source": [
    "ttest_1samp(ages,30)"
   ]
  },
  {
   "cell_type": "code",
   "execution_count": 7,
   "id": "14139402",
   "metadata": {},
   "outputs": [],
   "source": [
    "# Since p-value is 0.1488 which is > 0.05, we accept the NH."
   ]
  }
 ],
 "metadata": {
  "kernelspec": {
   "display_name": "Python 3 (ipykernel)",
   "language": "python",
   "name": "python3"
  },
  "language_info": {
   "codemirror_mode": {
    "name": "ipython",
    "version": 3
   },
   "file_extension": ".py",
   "mimetype": "text/x-python",
   "name": "python",
   "nbconvert_exporter": "python",
   "pygments_lexer": "ipython3",
   "version": "3.9.7"
  }
 },
 "nbformat": 4,
 "nbformat_minor": 5
}
