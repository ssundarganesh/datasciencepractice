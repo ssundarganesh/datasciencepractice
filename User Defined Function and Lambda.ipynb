{
 "cells": [
  {
   "cell_type": "code",
   "execution_count": 14,
   "id": "3619c753",
   "metadata": {},
   "outputs": [
    {
     "name": "stdout",
     "output_type": "stream",
     "text": [
      "Using default value\n",
      "Emp Name:  Nick\n",
      "Emp Role  Manager\n",
      "************************\n",
      "Overwriting default value\n",
      "Emp Name:  Tom\n",
      "Emp Role  CEO\n"
     ]
    }
   ],
   "source": [
    "def defArgFunc( empname, emprole = \"Manager\" ):   \n",
    "    print (\"Emp Name: \", empname)\n",
    "    print (\"Emp Role \", emprole)\n",
    "    return;\n",
    "print(\"Using default value\")\n",
    "defArgFunc(empname=\"Nick\")\n",
    "print(\"************************\")\n",
    "print(\"Overwriting default value\")\n",
    "defArgFunc(empname=\"Tom\",emprole = \"CEO\")"
   ]
  },
  {
   "cell_type": "code",
   "execution_count": 15,
   "id": "7360acfd",
   "metadata": {},
   "outputs": [
    {
     "name": "stdout",
     "output_type": "stream",
     "text": [
      "Now passing required arg value\n",
      "Emp Name:  Rekha\n",
      "Salary:  10000\n"
     ]
    }
   ],
   "source": [
    "def reqArgFunc( empname, salary):   \n",
    "    print (\"Emp Name: \", empname)\n",
    "    print (\"Salary: \", salary)\n",
    "    return;   \n",
    "#print(\"Not passing required arg value\")\n",
    "#reqArgFunc()\n",
    "print(\"Now passing required arg value\")\n",
    "reqArgFunc(\"Rekha\", 10000)"
   ]
  },
  {
   "cell_type": "code",
   "execution_count": 16,
   "id": "566e3cbd",
   "metadata": {},
   "outputs": [
    {
     "name": "stdout",
     "output_type": "stream",
     "text": [
      "Calling with single value\n",
      "The Output is: \n",
      "55\n",
      "Calling with multiple values\n",
      "The Output is: \n",
      "50\n",
      "60\n",
      "70\n",
      "80\n"
     ]
    }
   ],
   "source": [
    "def varLenArgFunc(*varvallist ):   \n",
    "    print (\"The Output is: \")\n",
    "    for varval in varvallist:\n",
    "        print (varval)\n",
    "    return;   \n",
    "print(\"Calling with single value\")\n",
    "varLenArgFunc(55)\n",
    "print(\"Calling with multiple values\")\n",
    "varLenArgFunc(50,60,70,80)"
   ]
  },
  {
   "cell_type": "code",
   "execution_count": 2,
   "id": "81f13115",
   "metadata": {},
   "outputs": [
    {
     "name": "stdout",
     "output_type": "stream",
     "text": [
      "3\n"
     ]
    }
   ],
   "source": [
    "adder = lambda x,y:x+y\n",
    "print (adder (1,2))"
   ]
  },
  {
   "cell_type": "code",
   "execution_count": 15,
   "id": "069082ec",
   "metadata": {},
   "outputs": [
    {
     "name": "stdout",
     "output_type": "stream",
     "text": [
      "187500225\n"
     ]
    }
   ],
   "source": [
    "agaram = lambda x,y: ((6*x**5*y**4)+x**3+y**2)\n",
    "print (agaram(5,10))"
   ]
  },
  {
   "cell_type": "code",
   "execution_count": 17,
   "id": "c61e622a",
   "metadata": {},
   "outputs": [
    {
     "name": "stdout",
     "output_type": "stream",
     "text": [
      "Sundar likes physics\n"
     ]
    }
   ],
   "source": [
    "string = \"Sundar likes physics\"\n",
    "print(string)"
   ]
  },
  {
   "cell_type": "code",
   "execution_count": 19,
   "id": "5429a0cb",
   "metadata": {},
   "outputs": [
    {
     "name": "stdout",
     "output_type": "stream",
     "text": [
      "<function <lambda> at 0x7f9bf82b30d0>\n"
     ]
    }
   ],
   "source": [
    "string = \"Sundar likes physics\"\n",
    "print(lambda string: print(string))"
   ]
  },
  {
   "cell_type": "code",
   "execution_count": 28,
   "id": "a3a0341a",
   "metadata": {
    "scrolled": true
   },
   "outputs": [
    {
     "data": {
      "text/plain": [
       "<function __main__.<lambda>(x)>"
      ]
     },
     "execution_count": 28,
     "metadata": {},
     "output_type": "execute_result"
    }
   ],
   "source": [
    "x = \"Sundar likes physics\"\n",
    "lambda x: print(x) (x)"
   ]
  },
  {
   "cell_type": "code",
   "execution_count": 29,
   "id": "9585b326",
   "metadata": {},
   "outputs": [
    {
     "name": "stdout",
     "output_type": "stream",
     "text": [
      "Sundar likes physics\n"
     ]
    }
   ],
   "source": [
    "# print the actual value instead of the location\n",
    "x = \"Sundar likes physics\"\n",
    "(lambda x: print(x)) (x)"
   ]
  },
  {
   "cell_type": "code",
   "execution_count": 30,
   "id": "2805237c",
   "metadata": {},
   "outputs": [
    {
     "data": {
      "text/plain": [
       "27"
      ]
     },
     "execution_count": 30,
     "metadata": {},
     "output_type": "execute_result"
    }
   ],
   "source": [
    "(lambda x: x**3) (3)"
   ]
  },
  {
   "cell_type": "code",
   "execution_count": 31,
   "id": "c930d839",
   "metadata": {},
   "outputs": [
    {
     "name": "stdout",
     "output_type": "stream",
     "text": [
      "[10, 8, 7, 5, 11]\n"
     ]
    },
    {
     "data": {
      "text/plain": [
       "[10, 8, 7, 5, 11]"
      ]
     },
     "execution_count": 31,
     "metadata": {},
     "output_type": "execute_result"
    }
   ],
   "source": [
    "#lambdas in filter()\n",
    "\n",
    "\"\"\"It takes 2 parameters:\n",
    "•\tA function that defines the filtering constraint\n",
    "•\tA sequence (any iterator like lists, tuples, etc.)\"\"\"\n",
    "\n",
    "sequences = [10,2,8,7,5,4,3,11,0, 1]\n",
    "filtered_result = filter (lambda x: x > 4, sequences) \n",
    "print(list(filtered_result))\n",
    "[10, 8, 7, 5, 11]"
   ]
  },
  {
   "cell_type": "code",
   "execution_count": 33,
   "id": "3d61d90b",
   "metadata": {},
   "outputs": [
    {
     "name": "stdout",
     "output_type": "stream",
     "text": [
      "<filter object at 0x7f9c20815be0>\n"
     ]
    }
   ],
   "source": [
    "sequences = [10,2,8,7,5,4,3,11,0, 1]\n",
    "filtered_result = filter (lambda x: x > 4, sequences) \n",
    "print(filtered_result)"
   ]
  },
  {
   "cell_type": "code",
   "execution_count": 34,
   "id": "37e78c95",
   "metadata": {},
   "outputs": [
    {
     "data": {
      "text/plain": [
       "<filter at 0x7f9c20815220>"
      ]
     },
     "execution_count": 34,
     "metadata": {},
     "output_type": "execute_result"
    }
   ],
   "source": [
    "sequences = [10,2,8,7,5,4,3,11,0, 1]\n",
    "filtered_result = filter (lambda x: x > 4, sequences) \n",
    "filtered_result"
   ]
  },
  {
   "cell_type": "code",
   "execution_count": 43,
   "id": "6bbb5b25",
   "metadata": {},
   "outputs": [
    {
     "name": "stdout",
     "output_type": "stream",
     "text": [
      "[1, 4, 9, 16, 25, 36, 49, 64, 81, 100, 121, 144, 169, 196, 225, 256, 289, 324, 361, 400]\n"
     ]
    }
   ],
   "source": [
    "sequence1 = range(1,21)\n",
    "mapped_result = map (lambda x: x*x, sequence1)\n",
    "print(list(mapped_result))"
   ]
  },
  {
   "cell_type": "code",
   "execution_count": 44,
   "id": "c3892153",
   "metadata": {},
   "outputs": [
    {
     "name": "stdout",
     "output_type": "stream",
     "text": [
      "[0, 0, 0, 0, 0, 0, 0, 0, 0, 0, 0, 0, 0, 0, 0, 0, 0, 0, 0, 0]\n"
     ]
    }
   ],
   "source": [
    "sequence2 = range(1,21)\n",
    "mapped_result = map (lambda x: x-x, sequence2)\n",
    "print(list(mapped_result))"
   ]
  },
  {
   "cell_type": "code",
   "execution_count": 45,
   "id": "ffc7ece9",
   "metadata": {},
   "outputs": [
    {
     "name": "stdout",
     "output_type": "stream",
     "text": [
      "[1, 4, 27, 256, 3125, 46656, 823543, 16777216, 387420489, 10000000000, 285311670611, 8916100448256, 302875106592253, 11112006825558016, 437893890380859375, 18446744073709551616, 827240261886336764177, 39346408075296537575424, 1978419655660313589123979, 104857600000000000000000000]\n"
     ]
    }
   ],
   "source": [
    "sequence3 = range(1,21)\n",
    "mapped_result = map (lambda x: x**x, sequence3)\n",
    "print(list(mapped_result))"
   ]
  },
  {
   "cell_type": "code",
   "execution_count": 47,
   "id": "f65a5b83",
   "metadata": {},
   "outputs": [
    {
     "name": "stdout",
     "output_type": "stream",
     "text": [
      "120\n"
     ]
    }
   ],
   "source": [
    "from functools import reduce\n",
    "sequences = [1,2,3,4,5]\n",
    "product = reduce (lambda x, y: x*y, sequences)\n",
    "print(product)"
   ]
  },
  {
   "cell_type": "code",
   "execution_count": 49,
   "id": "2cf5f5f5",
   "metadata": {},
   "outputs": [
    {
     "name": "stdout",
     "output_type": "stream",
     "text": [
      "<function <lambda> at 0x7f9bf82b3ee0>\n",
      "<function <lambda> at 0x7f9bf82b3f70>\n",
      "<function <lambda> at 0x7f9bf82cc040>\n"
     ]
    }
   ],
   "source": [
    "series1 = [lambda x: x **2 - 1 + 5,\n",
    "           lambda x: x **20 - 2 + 3,\n",
    "           lambda x: x **200 - 1 + 4]\n",
    "for i in series1:\n",
    "    print(i)"
   ]
  },
  {
   "cell_type": "code",
   "execution_count": 55,
   "id": "4e384104",
   "metadata": {},
   "outputs": [
    {
     "name": "stdout",
     "output_type": "stream",
     "text": [
      "5\n",
      "2\n",
      "4\n",
      "pass x as 2 into the series 1\n",
      "8\n",
      "1048577\n",
      "1606938044258990275541962092341162602522202993782792835301379\n"
     ]
    },
    {
     "data": {
      "text/plain": [
       "[<function __main__.<lambda>(x)>,\n",
       " <function __main__.<lambda>(x)>,\n",
       " <function __main__.<lambda>(x)>]"
      ]
     },
     "execution_count": 55,
     "metadata": {},
     "output_type": "execute_result"
    }
   ],
   "source": [
    "series1 = [lambda x: x **2 - 1 + 5,\n",
    "           lambda x: x **20 - 2 + 3,\n",
    "           lambda x: x **200 - 1 + 4]\n",
    "for i in series1:\n",
    "    print(i(1))\n",
    "print (\"pass x as 2 into the series 1\")\n",
    "for i in series1:\n",
    "    print(i(2))\n",
    "series1"
   ]
  }
 ],
 "metadata": {
  "kernelspec": {
   "display_name": "Python 3 (ipykernel)",
   "language": "python",
   "name": "python3"
  },
  "language_info": {
   "codemirror_mode": {
    "name": "ipython",
    "version": 3
   },
   "file_extension": ".py",
   "mimetype": "text/x-python",
   "name": "python",
   "nbconvert_exporter": "python",
   "pygments_lexer": "ipython3",
   "version": "3.9.7"
  }
 },
 "nbformat": 4,
 "nbformat_minor": 5
}
